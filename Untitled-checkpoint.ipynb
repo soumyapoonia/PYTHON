{
 "cells": [
  {
   "cell_type": "code",
   "execution_count": 3,
   "id": "661b3978",
   "metadata": {},
   "outputs": [
    {
     "name": "stdout",
     "output_type": "stream",
     "text": [
      "SOUMYA POONIA,20012609\n",
      "enter the value of n1:30\n",
      "enter the value of n2:40\n",
      "30 40\n",
      "40 30\n"
     ]
    }
   ],
   "source": [
    "print('SOUMYA POONIA,20012609')\n",
    "n1=int(input('enter the value of n1:'))\n",
    "n2=int(input('enter the value of n2:'))\n",
    "print(n1,n2)\n",
    "n1,n2=n2,n1\n",
    "print(n1,n2)"
   ]
  },
  {
   "cell_type": "code",
   "execution_count": 21,
   "id": "dc863e5e",
   "metadata": {},
   "outputs": [
    {
     "ename": "IndentationError",
     "evalue": "expected an indented block (<ipython-input-21-023074f046d6>, line 6)",
     "output_type": "error",
     "traceback": [
      "\u001b[1;36m  File \u001b[1;32m\"<ipython-input-21-023074f046d6>\"\u001b[1;36m, line \u001b[1;32m6\u001b[0m\n\u001b[1;33m    break\u001b[0m\n\u001b[1;37m    ^\u001b[0m\n\u001b[1;31mIndentationError\u001b[0m\u001b[1;31m:\u001b[0m expected an indented block\n"
     ]
    }
   ],
   "source": [
    "print('Q3 SOUMYA POONIA,20012609')\n",
    "s='soumya'\n",
    "for letter in s:\n",
    "    print(letter)\n",
    "    if letter=='o':\n",
    "    break\n",
    "    \n",
    "    print(\"Out of for loop\") \n",
    "    print()\n"
   ]
  },
  {
   "cell_type": "code",
   "execution_count": null,
   "id": "1c860e2e",
   "metadata": {},
   "outputs": [],
   "source": []
  }
 ],
 "metadata": {
  "kernelspec": {
   "display_name": "Python 3",
   "language": "python",
   "name": "python3"
  },
  "language_info": {
   "codemirror_mode": {
    "name": "ipython",
    "version": 3
   },
   "file_extension": ".py",
   "mimetype": "text/x-python",
   "name": "python",
   "nbconvert_exporter": "python",
   "pygments_lexer": "ipython3",
   "version": "3.8.8"
  }
 },
 "nbformat": 4,
 "nbformat_minor": 5
}
