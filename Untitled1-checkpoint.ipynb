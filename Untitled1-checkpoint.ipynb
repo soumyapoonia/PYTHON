{
 "cells": [
  {
   "cell_type": "code",
   "execution_count": 18,
   "id": "cd2ee7a5",
   "metadata": {},
   "outputs": [
    {
     "name": "stdout",
     "output_type": "stream",
     "text": [
      "enter lower range:2\n",
      "enter upper range:9\n",
      "3\n",
      "5\n",
      "5\n",
      "5\n",
      "7\n",
      "7\n",
      "7\n",
      "7\n",
      "7\n"
     ]
    }
   ],
   "source": [
    "A=int(input('enter lower range:'))\n",
    "B=int(input('enter upper range:'))\n",
    "\n",
    "for num in range(A,B):\n",
    "    \n",
    "    if num>1:\n",
    "        for i in range(2,num):\n",
    "            if (num%i)==0:\n",
    "                break\n",
    "            else:\n",
    "                print(num)"
   ]
  },
  {
   "cell_type": "code",
   "execution_count": null,
   "id": "a9176e96",
   "metadata": {},
   "outputs": [],
   "source": []
  }
 ],
 "metadata": {
  "kernelspec": {
   "display_name": "Python 3",
   "language": "python",
   "name": "python3"
  },
  "language_info": {
   "codemirror_mode": {
    "name": "ipython",
    "version": 3
   },
   "file_extension": ".py",
   "mimetype": "text/x-python",
   "name": "python",
   "nbconvert_exporter": "python",
   "pygments_lexer": "ipython3",
   "version": "3.8.8"
  }
 },
 "nbformat": 4,
 "nbformat_minor": 5
}
